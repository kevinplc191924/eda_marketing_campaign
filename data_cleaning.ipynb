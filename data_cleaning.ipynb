{
 "cells": [
  {
   "cell_type": "markdown",
   "id": "713e2158",
   "metadata": {},
   "source": [
    "# Bank marketing data"
   ]
  },
  {
   "cell_type": "markdown",
   "id": "02077ee3-e1e4-4fc5-8de1-16e987afa5fb",
   "metadata": {},
   "source": [
    "This is an exercise with the following instructions:\n",
    "\n",
    "A csv file called `\"bank_marketing.csv\"` has been supplied to you, which you will need to clean, reformat, and split the data, saving three final csv files. Specifically, the three files should have the names and contents as outlined below:\n",
    "\n",
    "## `client.csv`\n",
    "\n",
    "| column | data type | description | cleaning requirements |\n",
    "|--------|-----------|-------------|-----------------------|\n",
    "| `client_id` | `integer` | Client ID | N/A |\n",
    "| `age` | `integer` | Client's age in years | N/A |\n",
    "| `job` | `object` | Client's type of job | Change `\".\"` to `\"_\"` |\n",
    "| `marital` | `object` | Client's marital status | N/A |\n",
    "| `education` | `object` | Client's level of education | Change `\".\"` to `\"_\"` and `\"unknown\"` to `np.NaN` |\n",
    "| `credit_default` | `bool` | Whether the client's credit is in default | Convert to `boolean` data type:<br> `1` if `\"yes\"`, otherwise `0` |\n",
    "| `mortgage` | `bool` | Whether the client has an existing mortgage (housing loan) | Convert to boolean data type:<br> `1` if `\"yes\"`, otherwise `0` |\n",
    "\n",
    "<br>\n",
    "\n",
    "## `campaign.csv`\n",
    "\n",
    "| column | data type | description | cleaning requirements |\n",
    "|--------|-----------|-------------|-----------------------|\n",
    "| `client_id` | `integer` | Client ID | N/A |\n",
    "| `number_contacts` | `integer` | Number of contact attempts to the client in the current campaign | N/A |\n",
    "| `contact_duration` | `integer` | Last contact duration in seconds | N/A |\n",
    "| `previous_campaign_contacts` | `integer` | Number of contact attempts to the client in the previous campaign | N/A |\n",
    "| `previous_outcome` | `bool` | Outcome of the previous campaign | Convert to boolean data type:<br> `1` if `\"success\"`, otherwise `0`. |\n",
    "| `campaign_outcome` | `bool` | Outcome of the current campaign | Convert to boolean data type:<br> `1` if `\"yes\"`, otherwise `0`. |\n",
    "| `last_contact_date` | `datetime` | Last date the client was contacted | Create from a combination of `day`, `month`, and a newly created `year` column (which should have a value of `2022`); <br> **Format =** `\"YYYY-MM-DD\"` |\n",
    "\n",
    "<br>\n",
    "\n",
    "## `economics.csv`\n",
    "\n",
    "| column | data type | description | cleaning requirements |\n",
    "|--------|-----------|-------------|-----------------------|\n",
    "| `client_id` | `integer` | Client ID | N/A |\n",
    "| `cons_price_idx` | `float` | Consumer price index (monthly indicator) | N/A |\n",
    "| `euribor_three_months` | `float` | Euro Interbank Offered Rate (euribor) three-month rate (daily indicator) | N/A |"
   ]
  },
  {
   "cell_type": "code",
   "execution_count": null,
   "id": "e2edad3c-8286-4983-b5b7-35d94fd78023",
   "metadata": {
    "collapsed": true,
    "executionCancelledAt": null,
    "executionTime": 106,
    "jupyter": {
     "outputs_hidden": true,
     "source_hidden": false
    },
    "lastExecutedAt": 1731811135668,
    "lastExecutedByKernel": "623187e2-edff-4bc2-81e6-11a1fd41dbee",
    "lastScheduledRunId": null,
    "lastSuccessfullyExecutedCode": "import pandas as pd\nimport numpy as np\n\nraw_df = pd.read_csv('bank_marketing.csv')\nprint(raw_df.info())"
   },
   "outputs": [],
   "source": [
    "import pandas as pd\n",
    "import numpy as np\n",
    "\n",
    "raw_df = pd.read_csv('data/bank_marketing.csv')\n",
    "print(raw_df.info())"
   ]
  },
  {
   "cell_type": "code",
   "execution_count": null,
   "id": "273d3770-7ce3-4af0-803a-367517b550b0",
   "metadata": {
    "executionCancelledAt": null,
    "executionTime": 50,
    "lastExecutedAt": 1731811135718,
    "lastExecutedByKernel": "623187e2-edff-4bc2-81e6-11a1fd41dbee",
    "lastScheduledRunId": null,
    "lastSuccessfullyExecutedCode": "# Create the subset\nsubsets = [['client_id', 'age', 'job', 'marital', 'education', 'credit_default', 'mortgage'],\n           ['client_id', 'number_contacts', 'contact_duration', 'previous_campaign_contacts', 'previous_outcome', 'campaign_outcome', 'month', 'day'],\n           ['client_id', 'cons_price_idx', 'euribor_three_months']]\n\nsplit_data = []\n\nfor subset in subsets:\n    selected = raw_df.loc[:, subset]\n    split_data.append(selected)\n\nprint(len(split_data))",
    "outputsMetadata": {
     "0": {
      "height": 38,
      "type": "stream"
     }
    }
   },
   "outputs": [],
   "source": [
    "# Create the subsets\n",
    "subsets = [['client_id', 'age', 'job', 'marital', 'education', 'credit_default', 'mortgage'],\n",
    "           ['client_id', 'number_contacts', 'contact_duration', 'previous_campaign_contacts', 'previous_outcome', 'campaign_outcome', 'month', 'day'],\n",
    "           ['client_id', 'cons_price_idx', 'euribor_three_months']]\n",
    "\n",
    "split_data = []\n",
    "\n",
    "for subset in subsets:\n",
    "    selection = raw_df.loc[:, subset]\n",
    "    split_data.append(selection)\n",
    "\n",
    "print(len(split_data))"
   ]
  },
  {
   "cell_type": "code",
   "execution_count": null,
   "id": "82f5c7dc-48ca-41b5-84ec-71952652d1eb",
   "metadata": {
    "collapsed": true,
    "executionCancelledAt": null,
    "executionTime": 58,
    "jupyter": {
     "outputs_hidden": true,
     "source_hidden": false
    },
    "lastExecutedAt": 1731811135776,
    "lastExecutedByKernel": "623187e2-edff-4bc2-81e6-11a1fd41dbee",
    "lastScheduledRunId": null,
    "lastSuccessfullyExecutedCode": "# Dataframe inspection\nfor i in range(3):\n    print('-' * 35)\n    print(split_data[i].info())",
    "outputsMetadata": {
     "0": {
      "height": 421,
      "type": "stream"
     }
    }
   },
   "outputs": [
    {
     "name": "stdout",
     "output_type": "stream",
     "text": [
      "-----------------------------------\n",
      "<class 'pandas.core.frame.DataFrame'>\n",
      "RangeIndex: 41188 entries, 0 to 41187\n",
      "Data columns (total 7 columns):\n",
      " #   Column          Non-Null Count  Dtype \n",
      "---  ------          --------------  ----- \n",
      " 0   client_id       41188 non-null  int64 \n",
      " 1   age             41188 non-null  int64 \n",
      " 2   job             41188 non-null  object\n",
      " 3   marital         41188 non-null  object\n",
      " 4   education       41188 non-null  object\n",
      " 5   credit_default  41188 non-null  object\n",
      " 6   mortgage        41188 non-null  object\n",
      "dtypes: int64(2), object(5)\n",
      "memory usage: 2.2+ MB\n",
      "None\n",
      "-----------------------------------\n",
      "<class 'pandas.core.frame.DataFrame'>\n",
      "RangeIndex: 41188 entries, 0 to 41187\n",
      "Data columns (total 8 columns):\n",
      " #   Column                      Non-Null Count  Dtype \n",
      "---  ------                      --------------  ----- \n",
      " 0   client_id                   41188 non-null  int64 \n",
      " 1   number_contacts             41188 non-null  int64 \n",
      " 2   contact_duration            41188 non-null  int64 \n",
      " 3   previous_campaign_contacts  41188 non-null  int64 \n",
      " 4   previous_outcome            41188 non-null  object\n",
      " 5   campaign_outcome            41188 non-null  object\n",
      " 6   month                       41188 non-null  object\n",
      " 7   day                         41188 non-null  int64 \n",
      "dtypes: int64(5), object(3)\n",
      "memory usage: 2.5+ MB\n",
      "None\n",
      "-----------------------------------\n",
      "<class 'pandas.core.frame.DataFrame'>\n",
      "RangeIndex: 41188 entries, 0 to 41187\n",
      "Data columns (total 3 columns):\n",
      " #   Column                Non-Null Count  Dtype  \n",
      "---  ------                --------------  -----  \n",
      " 0   client_id             41188 non-null  int64  \n",
      " 1   cons_price_idx        41188 non-null  float64\n",
      " 2   euribor_three_months  41188 non-null  float64\n",
      "dtypes: float64(2), int64(1)\n",
      "memory usage: 965.5 KB\n",
      "None\n"
     ]
    }
   ],
   "source": [
    "# Dataframe inspection\n",
    "for i in range(3):\n",
    "    print(split_data[i].info())\n",
    "    print()"
   ]
  },
  {
   "cell_type": "code",
   "execution_count": null,
   "id": "8ae0ba37-7e8b-4a51-91f1-8cabd56e5e7a",
   "metadata": {
    "collapsed": true,
    "executionCancelledAt": null,
    "executionTime": 227,
    "jupyter": {
     "outputs_hidden": true,
     "source_hidden": false
    },
    "lastExecutedAt": 1731811136004,
    "lastExecutedByKernel": "623187e2-edff-4bc2-81e6-11a1fd41dbee",
    "lastScheduledRunId": null,
    "lastSuccessfullyExecutedCode": "# Client dataframe cleaning\ndef clean_client(data):\n    df = data.copy()\n    \n    # job: change '.' to '_'\n    df['job'] = df['job'].str.replace('.', '_')\n    # education: change '.' to '_' and add NaN\n    df['education'] = df['education'].str.replace('.', '_')\n    df['education'] = df['education'].apply(lambda x: np.nan if x=='unknown' else x)\n    # credit default: 1 if yes, else 0, dtype is bool\n    df['credit_default'] = df['credit_default'].apply(lambda x: 1 if x=='yes' else 0)\n    df['credit_default'] = df['credit_default'].astype('bool')\n    # mortgage: 1 if yes, else 0, dtype is bool\n    df['mortgage'] = df['mortgage'].apply(lambda x: 1 if x=='yes' else 0)\n    df['mortgage'] = df['mortgage'].astype('bool')\n    \n    return df\n\nclient = clean_client(split_data[0])\nprint(client.info())\nclient.to_csv('client.csv', index=False)",
    "outputsMetadata": {
     "0": {
      "height": 332,
      "type": "stream"
     }
    }
   },
   "outputs": [
    {
     "name": "stdout",
     "output_type": "stream",
     "text": [
      "<class 'pandas.core.frame.DataFrame'>\n",
      "RangeIndex: 41188 entries, 0 to 41187\n",
      "Data columns (total 7 columns):\n",
      " #   Column          Non-Null Count  Dtype \n",
      "---  ------          --------------  ----- \n",
      " 0   client_id       41188 non-null  int64 \n",
      " 1   age             41188 non-null  int64 \n",
      " 2   job             41188 non-null  object\n",
      " 3   marital         41188 non-null  object\n",
      " 4   education       39457 non-null  object\n",
      " 5   credit_default  41188 non-null  bool  \n",
      " 6   mortgage        41188 non-null  bool  \n",
      "dtypes: bool(2), int64(2), object(3)\n",
      "memory usage: 1.6+ MB\n",
      "None\n"
     ]
    }
   ],
   "source": [
    "# Client dataframe cleaning\n",
    "def clean_client(data):\n",
    "    df = data.copy()\n",
    "    \n",
    "    # job: change '.' to '_'\n",
    "    df['job'] = df['job'].str.replace('.', '_')\n",
    "    df['job'] = df['job'].str.strip('_')\n",
    "    # education: change '.' to '_' and add NaN\n",
    "    df['education'] = df['education'].str.replace('.', '_')\n",
    "    df['education'] = df['education'].apply(lambda x: np.nan if x=='unknown' else x)\n",
    "    # credit default: 1 if yes, else 0, dtype is bool\n",
    "    df['credit_default'] = df['credit_default'].apply(lambda x: 1 if x=='yes' else 0)\n",
    "    df['credit_default'] = df['credit_default'].astype('bool')\n",
    "    # mortgage: 1 if yes, else 0, dtype is bool\n",
    "    df['mortgage'] = df['mortgage'].apply(lambda x: 1 if x=='yes' else 0)\n",
    "    df['mortgage'] = df['mortgage'].astype('bool')\n",
    "    \n",
    "    return df\n",
    "\n",
    "client = clean_client(split_data[0])\n",
    "print(client.info())\n",
    "client.to_csv('./data/client.csv', index=False)"
   ]
  },
  {
   "cell_type": "code",
   "execution_count": null,
   "id": "bdd0252a-3996-42bc-8612-0275109c147c",
   "metadata": {
    "collapsed": true,
    "executionCancelledAt": null,
    "executionTime": 210,
    "jupyter": {
     "outputs_hidden": true,
     "source_hidden": false
    },
    "lastExecutedAt": 1731811136215,
    "lastExecutedByKernel": "623187e2-edff-4bc2-81e6-11a1fd41dbee",
    "lastScheduledRunId": null,
    "lastSuccessfullyExecutedCode": "# Campaign dataframe cleaning\ndef clean_campaign(data):\n    df = data.copy()\n    \n    # previous outcome: 1 if success else 0, dtype is bool\n    df['previous_outcome'] = df['previous_outcome'].apply(lambda x: 1 if x=='success' else 0)\n    df['previous_outcome'] = df['previous_outcome'].astype('bool')\n    # campaign outcome: 1 if yes else 0, dtype is bool\n    df['campaign_outcome'] = df['campaign_outcome'].apply(lambda x: 1 if x=='yes' else 0)\n    df['campaign_outcome'] = df['campaign_outcome'].astype('bool')\n    # year column: 2022\n    df['year'] = '2022'\n    # day column to str to concatenate\n    df['day'] = df['day'].astype('str')\n    # create last_contact_date column\n    df['last_contact_date'] = df['year'] + '-' + df['month'] + '-' + df['day']\n    df['last_contact_date'] = pd.to_datetime(df['last_contact_date'], format='%Y-%b-%d')\n    # drop the columns used to create dates\n    df.drop(['year', 'day', 'month'], axis=1, inplace=True)\n    \n    return df\n\ncampaign = clean_campaign(split_data[1])\nprint(campaign.info())\ncampaign.to_csv('campaign.csv', index=False)",
    "outputsMetadata": {
     "0": {
      "height": 332,
      "type": "stream"
     }
    }
   },
   "outputs": [
    {
     "name": "stdout",
     "output_type": "stream",
     "text": [
      "<class 'pandas.core.frame.DataFrame'>\n",
      "RangeIndex: 41188 entries, 0 to 41187\n",
      "Data columns (total 7 columns):\n",
      " #   Column                      Non-Null Count  Dtype         \n",
      "---  ------                      --------------  -----         \n",
      " 0   client_id                   41188 non-null  int64         \n",
      " 1   number_contacts             41188 non-null  int64         \n",
      " 2   contact_duration            41188 non-null  int64         \n",
      " 3   previous_campaign_contacts  41188 non-null  int64         \n",
      " 4   previous_outcome            41188 non-null  bool          \n",
      " 5   campaign_outcome            41188 non-null  bool          \n",
      " 6   last_contact_date           41188 non-null  datetime64[ns]\n",
      "dtypes: bool(2), datetime64[ns](1), int64(4)\n",
      "memory usage: 1.6 MB\n",
      "None\n"
     ]
    }
   ],
   "source": [
    "# Campaign dataframe cleaning\n",
    "def clean_campaign(data):\n",
    "    df = data.copy()\n",
    "    \n",
    "    # previous outcome: 1 if success else 0, dtype is bool\n",
    "    df['previous_outcome'] = df['previous_outcome'].apply(lambda x: 1 if x=='success' else 0)\n",
    "    df['previous_outcome'] = df['previous_outcome'].astype('bool')\n",
    "    # campaign outcome: 1 if yes else 0, dtype is bool\n",
    "    df['campaign_outcome'] = df['campaign_outcome'].apply(lambda x: 1 if x=='yes' else 0)\n",
    "    df['campaign_outcome'] = df['campaign_outcome'].astype('bool')\n",
    "    # year column: 2022\n",
    "    df['year'] = '2022'\n",
    "    # day column to str to concatenate\n",
    "    df['day'] = df['day'].astype('str')\n",
    "    # create last_contact_date column\n",
    "    df['last_contact_date'] = df['year'] + '-' + df['month'] + '-' + df['day']\n",
    "    df['last_contact_date'] = pd.to_datetime(df['last_contact_date'], format='%Y-%b-%d')\n",
    "    # drop the columns used to create dates\n",
    "    df.drop(['year', 'day', 'month'], axis=1, inplace=True)\n",
    "    \n",
    "    return df\n",
    "\n",
    "campaign = clean_campaign(split_data[1])\n",
    "print(campaign.info())\n",
    "campaign.to_csv('./data/campaign.csv', index=False)"
   ]
  },
  {
   "cell_type": "code",
   "execution_count": null,
   "id": "8566c5eb-e048-4da8-926e-1eef7ffcfaa2",
   "metadata": {
    "executionCancelledAt": null,
    "executionTime": 113,
    "lastExecutedAt": 1731811136379,
    "lastExecutedByKernel": "623187e2-edff-4bc2-81e6-11a1fd41dbee",
    "lastScheduledRunId": null,
    "lastSuccessfullyExecutedCode": "# Economics dataframe cleaning: just save as csv\nsplit_data[2].to_csv('economics.csv', index=False)"
   },
   "outputs": [],
   "source": [
    "# Economics dataframe cleaning: just save as csv\n",
    "split_data[2].to_csv('./data/economics.csv', index=False)"
   ]
  }
 ],
 "metadata": {
  "editor": "DataCamp Workspace",
  "kernelspec": {
   "display_name": "data_science",
   "language": "python",
   "name": "python3"
  },
  "language_info": {
   "codemirror_mode": {
    "name": "ipython",
    "version": 3
   },
   "file_extension": ".py",
   "mimetype": "text/x-python",
   "name": "python",
   "nbconvert_exporter": "python",
   "pygments_lexer": "ipython3",
   "version": "3.11.9"
  }
 },
 "nbformat": 4,
 "nbformat_minor": 5
}
